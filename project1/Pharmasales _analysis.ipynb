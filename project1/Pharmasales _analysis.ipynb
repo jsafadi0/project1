{
 "cells": [
  {
   "cell_type": "markdown",
   "metadata": {},
   "source": [
    "## Summary of Dataset:\n",
    " This dataset contains selected group of drugs from the dataset (57 drugs) is classified to the following Anatomical Therapeutic Chemical (ATC) Classification System categories:\n",
    "\n",
    "M01AB - Anti-inflammatory and antirheumatic products, non-steroids, Acetic acid derivatives and related substances\n",
    "M01AE - Anti-inflammatory and antirheumatic products, non-steroids, Propionic acid derivatives\n",
    "N02BA - Other analgesics and antipyretics, Salicylic acid and derivatives\n",
    "N02BE/B - Other analgesics and antipyretics, Pyrazolones and Anilides\n",
    "N05B - Psycholeptics drugs, Anxiolytic drugs\n",
    "N05C - Psycholeptics drugs, Hypnotics and sedatives drugs\n",
    "R03 - Drugs for obstructive airway diseases\n",
    "R06 - Antihistamines for systemic use\n"
   ]
  },
  {
   "cell_type": "markdown",
   "metadata": {},
   "source": [
    "## ATC categories and sale count for each category through 2014-2019 \n",
    "Looking at the bar charts for all the 8 drug types, we can see that trend for sales can be further categorized in 4 groups. \n",
    "    \n",
    "    1. Drugs M01AB and M01AE seem to follow a similar sales trend from 2014 - 2019 and can be grouped together.\n",
    "\n",
    "    2 Similarly, drugs N02BE, R03 and R06 can be put in another group as they have increasing sales trend from 2014 to 2016 followed by decreasing trend with a significant dip in 2017. \n",
    "\n",
    "    3. Drug types N05B and N05C have similar trends and can be group together as well. \n",
    "\n",
    "    4.Lastly, drug N02BA is in a group by itself with consistent sales from 2014 to 2016 and then constant decline in sales from 2017 onwards"
   ]
  },
  {
   "cell_type": "code",
   "execution_count": 17,
   "metadata": {},
   "outputs": [
    {
     "data": {
      "text/html": [
       "<img src=\"Drug_Categories_sales.png\" width=\"700\" height=\"400\"/>"
      ],
      "text/plain": [
       "<IPython.core.display.Image object>"
      ]
     },
     "execution_count": 17,
     "metadata": {},
     "output_type": "execute_result"
    }
   ],
   "source": [
    "from IPython.display import Image\n",
    "Image(url=\"Drug_Categories_sales.png\", width=700, height=400)"
   ]
  },
  {
   "cell_type": "markdown",
   "metadata": {},
   "source": [
    "## Highest selling Drug Category ( N02BE)\n",
    " We can see that the drug category N02BE is the highest selling drug with sales count of 10,000  in year 2014 to 13000+ in 2016 but then it had a dip in 2017 with sales of almost 7600, thenin 2018 and 2019 it maintained the sale of 11000- 8000 count . Even with all this rise and dip in sales , the drug N02BE was still able to maintain the highest selling drug "
   ]
  },
  {
   "cell_type": "code",
   "execution_count": 7,
   "metadata": {},
   "outputs": [
    {
     "data": {
      "text/html": [
       "<img src=\"Highest_selling_drug.png\" width=\"700\" height=\"400\"/>"
      ],
      "text/plain": [
       "<IPython.core.display.Image object>"
      ]
     },
     "execution_count": 7,
     "metadata": {},
     "output_type": "execute_result"
    }
   ],
   "source": [
    "from IPython.display import Image\n",
    "Image(url=\"Highest_selling_drug.png\", width=700, height=400)"
   ]
  },
  {
   "cell_type": "markdown",
   "metadata": {},
   "source": [
    "## Lowest selling Drug Category ( N05C)\n",
    "\n",
    "We can see that the drug category N05C is the lowest selling drug  as over the period of 6 years barely the sale was about 1250 for all 6 years. \n",
    "Even though this drug was not sold as much in terms of count to other ATC categories, it still had maintained a steady sale count for each year. \n"
   ]
  },
  {
   "cell_type": "code",
   "execution_count": 8,
   "metadata": {},
   "outputs": [
    {
     "data": {
      "text/html": [
       "<img src=\"Lowest_selling_drug.png\" width=\"700\" height=\"400\"/>"
      ],
      "text/plain": [
       "<IPython.core.display.Image object>"
      ]
     },
     "execution_count": 8,
     "metadata": {},
     "output_type": "execute_result"
    }
   ],
   "source": [
    "from IPython.display import Image\n",
    "Image(url=\"Lowest_selling_drug.png\", width=700, height=400)"
   ]
  },
  {
   "attachments": {},
   "cell_type": "markdown",
   "metadata": {},
   "source": [
    "## Total Sale of Drugs from 2014- 2019 per Category \n",
    "We are looking at 8 different drug categories sold for the period of 2014- 2019 . \n",
    "Drug category like N02BE had variation in sale count but managed to have a high sale count of 7000-almost 14000 count for all 6 years .\n",
    "As compared to other categories like M01AB, M01AE, N02BA had consitent sale count between 8000- 10000 counts, whereas the sum of R03 and R06 almost had 50 % of difference between the sale count(12000, 6000 respectively) \n",
    "as suppose to N05C it barely reached the sale to 1250 for all 6 years .\n",
    "\n",
    "\n",
    "Total sales for each drug group for the entire 2014–2019 period\n",
    "\n",
    "For this question, I calculated the total 6-year quantity sold for each drug group. I found that the \"N02BE\" drug group is the highest-selling drug group in ATC categories with 49.4% of total drug groups sold over a 6-year period. I also created a pie chart as a data visualization to represent my calculations."
   ]
  },
  {
   "cell_type": "code",
   "execution_count": 18,
   "metadata": {},
   "outputs": [
    {
     "data": {
      "text/html": [
       "<img src=\"Drug_group_6years.png\" width=\"700\" height=\"400\"/>"
      ],
      "text/plain": [
       "<IPython.core.display.Image object>"
      ]
     },
     "execution_count": 18,
     "metadata": {},
     "output_type": "execute_result"
    }
   ],
   "source": [
    "from IPython.display import Image\n",
    "Image(url=\"Drug_group_6years.png\", width=700, height=400)"
   ]
  },
  {
   "attachments": {},
   "cell_type": "markdown",
   "metadata": {},
   "source": [
    "## Yearly Comparison of Total Sale of Drugs from 2014- 2019 per Category\n",
    "We are looking at 8 different drug categories sold for the period of 2014- 2019 .\n",
    "Drug category like N02BE had variation in sale count but managed to have a high sale count of 7000-almost 14000 count for all 6 years .\n",
    "As compared to other categories like M01AB, M01AE, N02BA had consitent sale count between 8000- 10000 counts, whereas the sum of R03 and R06 almost had 50 % of difference between the sale count(12000, 6000 respectively)\n",
    "as suppose to N05C it barely reached the sale to 1250 for all 6 years .\n",
    "The main finding for this question is that no drug group had a stable selling trend in the 6-year period. Each one of them had its ups and downs.\n"
   ]
  },
  {
   "cell_type": "code",
   "execution_count": 19,
   "metadata": {},
   "outputs": [
    {
     "data": {
      "text/html": [
       "<img src=\"Yearlysalesforeachdruggroup.png\" width=\"700\" height=\"400\"/>"
      ],
      "text/plain": [
       "<IPython.core.display.Image object>"
      ]
     },
     "execution_count": 19,
     "metadata": {},
     "output_type": "execute_result"
    }
   ],
   "source": [
    "from IPython.display import Image\n",
    "Image(url=\"Yearlysalesforeachdruggroup.png\", width=700, height=400)"
   ]
  },
  {
   "cell_type": "code",
   "execution_count": 2,
   "metadata": {},
   "outputs": [
    {
     "data": {
      "text/html": [
       "<img src=\"Mean_sales.jpeg\" width=\"700\" height=\"400\"/>"
      ],
      "text/plain": [
       "<IPython.core.display.Image object>"
      ]
     },
     "execution_count": 2,
     "metadata": {},
     "output_type": "execute_result"
    }
   ],
   "source": [
    "## Mean\n",
    "from IPython.display import Image\n",
    "Image(url=\"Mean_sales.jpeg\", width=700, height=400)"
   ]
  },
  {
   "cell_type": "code",
   "execution_count": 3,
   "metadata": {},
   "outputs": [
    {
     "data": {
      "text/html": [
       "<img src=\"Median_sales.jpeg\" width=\"700\" height=\"400\"/>"
      ],
      "text/plain": [
       "<IPython.core.display.Image object>"
      ]
     },
     "execution_count": 3,
     "metadata": {},
     "output_type": "execute_result"
    }
   ],
   "source": [
    "# Meadian\n",
    "from IPython.display import Image\n",
    "Image(url=\"Median_sales.jpeg\", width=700, height=400)"
   ]
  },
  {
   "cell_type": "code",
   "execution_count": 4,
   "metadata": {},
   "outputs": [
    {
     "data": {
      "text/html": [
       "<img src=\"Stddev_sales.jpeg\" width=\"700\" height=\"400\"/>"
      ],
      "text/plain": [
       "<IPython.core.display.Image object>"
      ]
     },
     "execution_count": 4,
     "metadata": {},
     "output_type": "execute_result"
    }
   ],
   "source": [
    "# Std deviation\n",
    "from IPython.display import Image\n",
    "Image(url=\"Stddev_sales.jpeg\", width=700, height=400)"
   ]
  }
 ],
 "metadata": {
  "kernelspec": {
   "display_name": "PythonData",
   "language": "python",
   "name": "pythondata"
  },
  "language_info": {
   "codemirror_mode": {
    "name": "ipython",
    "version": 3
   },
   "file_extension": ".py",
   "mimetype": "text/x-python",
   "name": "python",
   "nbconvert_exporter": "python",
   "pygments_lexer": "ipython3",
   "version": "3.9.13"
  },
  "orig_nbformat": 4
 },
 "nbformat": 4,
 "nbformat_minor": 2
}
