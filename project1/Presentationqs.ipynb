{
 "cells": [
  {
   "attachments": {},
   "cell_type": "markdown",
   "metadata": {},
   "source": [
    "1- Questions that you found interesting and what motivated you to answer them\n",
    "\n",
    "## Our questions are:\n",
    "    1- Different categories for each drug group \n",
    "    2 Highest selling drug and its performance \n",
    "    3 Lowest selling drug and its performance \n",
    "    4 which drug group categories and its sales for all 6 years ( 2014- 2019)\n",
    "    5- Yearly sales for each category\n",
    "    6- Finding Mean, median, STd, deviation, Quartiles\n",
    "\n",
    "What motivated us to answer them was the drive to become better data analysts and practice the concepts we learned in class to achieve that."
   ]
  },
  {
   "attachments": {},
   "cell_type": "markdown",
   "metadata": {},
   "source": [
    "2- Where and how you found the data you used to answer these questions\n",
    "\n",
    "We found the dataset on Kaggle.com. We were looking for a large dataset so we could come up with enough questions to answer. The \"Salesmonthly\" dataset has the sold monthly quantity for 8 drug groups over a 6-year period, which is a long time. And that's why we found it interesting . Also this web link has additional information about each drug category(https://www.whocc.no/atc/structure_and_principles/)"
   ]
  },
  {
   "cell_type": "markdown",
   "metadata": {},
   "source": [
    "3- The data exploration and cleanup process (accompanied by your Jupyter notebook)\n",
    "\n",
    "We started the data exploration process by reading the instructions for the project. The instructions suggested using data from certain fields, and healthcare was one of them. The cleanup process was done by downloading our dataset, importing packages, and deleting duplicate or null values in the dataset."
   ]
  },
  {
   "cell_type": "markdown",
   "metadata": {},
   "source": [
    "4- The analysis process (accompanied by your Jupyter notebook)\n",
    "\n",
    "The analysis process was done by answering the propsal's questions we came up with as a group. We also added data visualization to these questions, which will make it easier for the audience to understand our analysis. We also calculated important things like the mean, median, variance, and standard deviation."
   ]
  },
  {
   "attachments": {},
   "cell_type": "markdown",
   "metadata": {},
   "source": [
    "5- Your conclusions, including a numerical summary and visualizations of the summary\n",
    "\n",
    "Our conclusions and analysis are shown in above description and also through visualizations."
   ]
  }
 ],
 "metadata": {
  "language_info": {
   "name": "python"
  },
  "orig_nbformat": 4
 },
 "nbformat": 4,
 "nbformat_minor": 2
}
